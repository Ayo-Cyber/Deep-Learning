{
  "cells": [
    {
      "cell_type": "markdown",
      "metadata": {
        "id": "view-in-github",
        "colab_type": "text"
      },
      "source": [
        "<a href=\"https://colab.research.google.com/github/Ayo-Cyber/Deep-Learning/blob/main/Copy_of_BREAST_CANCER_IMAGE_CLASSIFICATION_.ipynb\" target=\"_parent\"><img src=\"https://colab.research.google.com/assets/colab-badge.svg\" alt=\"Open In Colab\"/></a>"
      ]
    },
    {
      "cell_type": "markdown",
      "source": [
        "## Importing Libraries\n",
        "\n",
        "#### Importing the necessary libraries are very essential in solving Deep Learning Problems , cause importing and installing necessary libaries and modules helps for smooth running of the program you intend to run.\n",
        "\n",
        "\n",
        "#### Libraries needed \n",
        "*   The Pandas and Numpy library\n",
        "*   The python os and glob library\n",
        "*   The Tensorflow frame work and keras library \n",
        "*   Visualizations libraries like Seaborn and Matplotlib\n",
        "*   The Scikit learn library \n",
        "\n"
      ],
      "metadata": {
        "id": "Qm0dPfOCCFqE"
      }
    },
    {
      "cell_type": "code",
      "execution_count": null,
      "metadata": {
        "id": "reQDMfJr_Xh2"
      },
      "outputs": [],
      "source": [
        "import pandas as pd #importing pandas to read data and also use for data manipulation\n",
        "import numpy as np #for connecting dictionaries to array and also for linear algebra use \n",
        "\n",
        "import os #for the use reading files from directories \n",
        "import glob\n",
        "\n",
        "#for data visualization\n",
        "import matplotlib.pyplot as plt #matplotlb.pyplot is used for data visualization\n",
        "import seaborn as sns #seaborn is a library built upon matplotlib used for data visualization\n",
        "\n",
        "#deep learning tools....\n",
        "import tensorflow as tf #tensorflow is a deep learning tool used for building neural networks\n",
        "from tensorflow import keras #keras acts as the interface for tensorflow \n",
        "from tensorflow.keras.preprocessing import image, image_dataset_from_directory #this tensorflow.keras.preprocessing is used for reading images in tensorflow\n",
        "from tensorflow.keras import layers, activations, optimizers, losses, metrics, initializers\n",
        "from tensorflow.keras.applications import EfficientNetB7\n",
        "\n",
        "#scikit learn libraries \n",
        "from skimage import data , io , filters #skimage is used for reading data in image format \n",
        "\n",
        "from sklearn.preprocessing import LabelEncoder #labelencoder is used for encoding text characters into understandable computer formats (i.e : numbers)\n",
        "from sklearn.model_selection import train_test_split \n",
        "#model_selection is used when we decide to split the dataset into two splits one for training and the otehr for testing "
      ]
    },
    {
      "cell_type": "markdown",
      "source": [
        "## Reading Data\n",
        "\n",
        "#### In this section we read our image data from the google drive we stored them in for easy usage . \n",
        "\n",
        "\n",
        "*   First we store the directory of the folder of our images in the main_directory variable \n",
        "*   Then we use the os.listdir to further move into the folder to check other folders , which are the three folders (<i>benign</i> , <i>normal</i> , <i>malignant</i>)\n",
        "*   After that we created two list variables to store in the image_files and there respective labels .\n",
        "*   Furthermore a for loop was used to loop through the image_directory to get the image files for sectioning\n",
        "*   We then However used the glob function from pyton the define a technique to match some specific pattern interms of the image directory  \n",
        "*   After using the glob function we then iterate through the image directory variable to get the image labels and files \n",
        "*   Afterwards the length of both the image_files and image_labels is being printed out ."
      ],
      "metadata": {
        "id": "jAmvVOk6Fbh_"
      }
    },
    {
      "cell_type": "code",
      "execution_count": null,
      "metadata": {
        "colab": {
          "base_uri": "https://localhost:8080/"
        },
        "id": "GWk6_IY9FWCk",
        "outputId": "89d00041-0a15-4766-cc3c-6cdeeaa01aff"
      },
      "outputs": [
        {
          "output_type": "execute_result",
          "data": {
            "text/plain": [
              "(2030, 2030)"
            ]
          },
          "metadata": {},
          "execution_count": 2
        }
      ],
      "source": [
        "#creating a main_directory to the path where the main folder is stored in our google drive \n",
        "main_directory = '/content/drive/MyDrive/Breast_Cancer_Images_Folder' \n",
        "\n",
        "#the os.listdir helps us to return the list containing the enteries in the main_directory file_path\n",
        "image_directory = os.listdir(main_directory)\n",
        "\n",
        "#creating two empty list to store our image files and the other to store the image labels\n",
        "image_files = []\n",
        "image_labels = []\n",
        "\n",
        "#creating a for loop to loop through image_directory entry\n",
        "# --->storing the main image directory path into the variable file_list \n",
        "# ---->then we store the labels of the images into the image_labels list created intially \n",
        "# ----->and also store the directory of the images into the image_files list using the extend function\n",
        "\n",
        "for folders in image_directory:\n",
        "\n",
        "  file_list = glob.glob(main_directory + '/'+ folders + '/*')\n",
        "  image_labels.extend([folders for l in file_list])\n",
        "  image_files.extend(file_list)\n",
        "\n",
        "#printing out the length of list \n",
        "len(image_files), len(image_labels)"
      ]
    },
    {
      "cell_type": "markdown",
      "source": [
        "*  This section is a sub section of the reading data section and it deals with removing the mask images in the dataset , so we can train the model based on the normal images we have to make the model run smoothly . \n",
        "\n",
        "Steps Taken \n",
        "\n",
        "\n",
        "*   First we create two new list to store our new set of files and labels into \n",
        "*   Then we loop through the image files and labels to check for files with the 'mask' in it's name and drop them .\n",
        "*   Afterwards we print the new length of our dataset\n",
        "\n"
      ],
      "metadata": {
        "id": "Py7oXMk9RAaA"
      }
    },
    {
      "cell_type": "code",
      "execution_count": null,
      "metadata": {
        "colab": {
          "base_uri": "https://localhost:8080/"
        },
        "id": "nf_tJAu0Gaq3",
        "outputId": "d4063a74-8336-441d-eff0-de1cb90157a3"
      },
      "outputs": [
        {
          "output_type": "execute_result",
          "data": {
            "text/plain": [
              "(792, 792)"
            ]
          },
          "metadata": {},
          "execution_count": 3
        }
      ],
      "source": [
        "image_files_edit = []\n",
        "image_labels_edit = []\n",
        "\n",
        "for file, label in zip(image_files, image_labels):\n",
        "    if 'mask' not in file:\n",
        "        image_files_edit.append(file)\n",
        "        image_labels_edit.append(label)\n",
        "\n",
        "    \n",
        "len(image_files_edit), len(image_labels_edit)"
      ]
    },
    {
      "cell_type": "markdown",
      "source": [
        "## Image Preprocessing \n",
        "\n",
        "#### In this section we use the keras library and some scikit learn library functions to preprocess the images into something more scalable for the model to understand and work with . \n",
        "\n",
        "#### Steps Taken \n",
        "*  I defined the image shape and i created a function to prepare the image \n",
        "*  In the prepare_image function i loaded the images and use the specified image shape to make it easier to scale instead of importing or trying to scale the image in other ways .\n",
        "*   Moreover i returned the images in an array format \n",
        "*   After returning the image in array format , i moved forward to use the kreas image preprocessing tool to prepreocess the image and also returned it in that format .\n",
        "*   Furthermore i created a dictionary called images and in it i created two variables image and target to store the newly preprocessed image data .\n",
        "*   i created a for loop to iterate the already cleaned image_files and image_labels list and then appending the newly created prepared image into the image dictionary ."
      ],
      "metadata": {
        "id": "69RHSjZoSTEA"
      }
    },
    {
      "cell_type": "code",
      "execution_count": null,
      "metadata": {
        "id": "yCmoiWx1Okav"
      },
      "outputs": [],
      "source": [
        "Img_shp = (224 , 224)\n",
        "def prepare_image(file):\n",
        "    img = image.load_img(file, target_size=Img_shp)\n",
        "    img_array = image.img_to_array(img)\n",
        "    return tf.keras.applications.efficientnet.preprocess_input (img_array)\n",
        "\n",
        "images = {\n",
        "    'image': [], \n",
        "    'target': []\n",
        "}\n",
        "\n",
        "\n",
        "for i, (file, label) in enumerate(zip(image_files_edit, image_labels_edit)):\n",
        "    images['image'].append(prepare_image(file))\n",
        "    images['target'].append(label)\n",
        "\n",
        "print('Image Preprocessed ....')"
      ]
    },
    {
      "cell_type": "code",
      "execution_count": null,
      "metadata": {
        "id": "6s05rDq1Rn11"
      },
      "outputs": [],
      "source": [
        "images['image'] = np.array(images['image'])\n",
        "images['target'] = np.array(images['target'])"
      ]
    },
    {
      "cell_type": "markdown",
      "source": [
        "* Exploratory Analysis"
      ],
      "metadata": {
        "id": "bHb4hiVPSate"
      }
    },
    {
      "cell_type": "code",
      "source": [
        "count = [0]*3\n",
        "for i in np.arange(len(images['target'])):\n",
        "  if images['target'][i] == 'normal':\n",
        "    count[0] = count[0] + 1\n",
        "  elif images['target'][i] == 'benign':\n",
        "    count[1] = count[1] + 1\n",
        "  else:\n",
        "    count[2] = count[2] + 1\n",
        "\n",
        "\n",
        "cancer_data = {\n",
        "    'names' : ['normal' , 'bengin' , 'maliginant'] , \n",
        "    'count' : [count[0] , count[1] , count[2]]\n",
        "}\n",
        "\n",
        "cancer_df = pd.DataFrame.from_dict(cancer_data)"
      ],
      "metadata": {
        "id": "CEYDJNZO6y6q"
      },
      "execution_count": null,
      "outputs": []
    },
    {
      "cell_type": "code",
      "source": [
        "cancer_df"
      ],
      "metadata": {
        "colab": {
          "base_uri": "https://localhost:8080/",
          "height": 143
        },
        "id": "5t43b8-Z9oN1",
        "outputId": "073757cc-2558-4b8f-ba88-af8f96a18434"
      },
      "execution_count": null,
      "outputs": [
        {
          "output_type": "execute_result",
          "data": {
            "text/plain": [
              "        names  count\n",
              "0      normal    133\n",
              "1      bengin    395\n",
              "2  maliginant      0"
            ],
            "text/html": [
              "\n",
              "  <div id=\"df-0826728b-7bf2-4838-be26-d04064fe6307\">\n",
              "    <div class=\"colab-df-container\">\n",
              "      <div>\n",
              "<style scoped>\n",
              "    .dataframe tbody tr th:only-of-type {\n",
              "        vertical-align: middle;\n",
              "    }\n",
              "\n",
              "    .dataframe tbody tr th {\n",
              "        vertical-align: top;\n",
              "    }\n",
              "\n",
              "    .dataframe thead th {\n",
              "        text-align: right;\n",
              "    }\n",
              "</style>\n",
              "<table border=\"1\" class=\"dataframe\">\n",
              "  <thead>\n",
              "    <tr style=\"text-align: right;\">\n",
              "      <th></th>\n",
              "      <th>names</th>\n",
              "      <th>count</th>\n",
              "    </tr>\n",
              "  </thead>\n",
              "  <tbody>\n",
              "    <tr>\n",
              "      <th>0</th>\n",
              "      <td>normal</td>\n",
              "      <td>133</td>\n",
              "    </tr>\n",
              "    <tr>\n",
              "      <th>1</th>\n",
              "      <td>bengin</td>\n",
              "      <td>395</td>\n",
              "    </tr>\n",
              "    <tr>\n",
              "      <th>2</th>\n",
              "      <td>maliginant</td>\n",
              "      <td>0</td>\n",
              "    </tr>\n",
              "  </tbody>\n",
              "</table>\n",
              "</div>\n",
              "      <button class=\"colab-df-convert\" onclick=\"convertToInteractive('df-0826728b-7bf2-4838-be26-d04064fe6307')\"\n",
              "              title=\"Convert this dataframe to an interactive table.\"\n",
              "              style=\"display:none;\">\n",
              "        \n",
              "  <svg xmlns=\"http://www.w3.org/2000/svg\" height=\"24px\"viewBox=\"0 0 24 24\"\n",
              "       width=\"24px\">\n",
              "    <path d=\"M0 0h24v24H0V0z\" fill=\"none\"/>\n",
              "    <path d=\"M18.56 5.44l.94 2.06.94-2.06 2.06-.94-2.06-.94-.94-2.06-.94 2.06-2.06.94zm-11 1L8.5 8.5l.94-2.06 2.06-.94-2.06-.94L8.5 2.5l-.94 2.06-2.06.94zm10 10l.94 2.06.94-2.06 2.06-.94-2.06-.94-.94-2.06-.94 2.06-2.06.94z\"/><path d=\"M17.41 7.96l-1.37-1.37c-.4-.4-.92-.59-1.43-.59-.52 0-1.04.2-1.43.59L10.3 9.45l-7.72 7.72c-.78.78-.78 2.05 0 2.83L4 21.41c.39.39.9.59 1.41.59.51 0 1.02-.2 1.41-.59l7.78-7.78 2.81-2.81c.8-.78.8-2.07 0-2.86zM5.41 20L4 18.59l7.72-7.72 1.47 1.35L5.41 20z\"/>\n",
              "  </svg>\n",
              "      </button>\n",
              "      \n",
              "  <style>\n",
              "    .colab-df-container {\n",
              "      display:flex;\n",
              "      flex-wrap:wrap;\n",
              "      gap: 12px;\n",
              "    }\n",
              "\n",
              "    .colab-df-convert {\n",
              "      background-color: #E8F0FE;\n",
              "      border: none;\n",
              "      border-radius: 50%;\n",
              "      cursor: pointer;\n",
              "      display: none;\n",
              "      fill: #1967D2;\n",
              "      height: 32px;\n",
              "      padding: 0 0 0 0;\n",
              "      width: 32px;\n",
              "    }\n",
              "\n",
              "    .colab-df-convert:hover {\n",
              "      background-color: #E2EBFA;\n",
              "      box-shadow: 0px 1px 2px rgba(60, 64, 67, 0.3), 0px 1px 3px 1px rgba(60, 64, 67, 0.15);\n",
              "      fill: #174EA6;\n",
              "    }\n",
              "\n",
              "    [theme=dark] .colab-df-convert {\n",
              "      background-color: #3B4455;\n",
              "      fill: #D2E3FC;\n",
              "    }\n",
              "\n",
              "    [theme=dark] .colab-df-convert:hover {\n",
              "      background-color: #434B5C;\n",
              "      box-shadow: 0px 1px 3px 1px rgba(0, 0, 0, 0.15);\n",
              "      filter: drop-shadow(0px 1px 2px rgba(0, 0, 0, 0.3));\n",
              "      fill: #FFFFFF;\n",
              "    }\n",
              "  </style>\n",
              "\n",
              "      <script>\n",
              "        const buttonEl =\n",
              "          document.querySelector('#df-0826728b-7bf2-4838-be26-d04064fe6307 button.colab-df-convert');\n",
              "        buttonEl.style.display =\n",
              "          google.colab.kernel.accessAllowed ? 'block' : 'none';\n",
              "\n",
              "        async function convertToInteractive(key) {\n",
              "          const element = document.querySelector('#df-0826728b-7bf2-4838-be26-d04064fe6307');\n",
              "          const dataTable =\n",
              "            await google.colab.kernel.invokeFunction('convertToInteractive',\n",
              "                                                     [key], {});\n",
              "          if (!dataTable) return;\n",
              "\n",
              "          const docLinkHtml = 'Like what you see? Visit the ' +\n",
              "            '<a target=\"_blank\" href=https://colab.research.google.com/notebooks/data_table.ipynb>data table notebook</a>'\n",
              "            + ' to learn more about interactive tables.';\n",
              "          element.innerHTML = '';\n",
              "          dataTable['output_type'] = 'display_data';\n",
              "          await google.colab.output.renderOutput(dataTable, element);\n",
              "          const docLink = document.createElement('div');\n",
              "          docLink.innerHTML = docLinkHtml;\n",
              "          element.appendChild(docLink);\n",
              "        }\n",
              "      </script>\n",
              "    </div>\n",
              "  </div>\n",
              "  "
            ]
          },
          "metadata": {},
          "execution_count": 7
        }
      ]
    },
    {
      "cell_type": "code",
      "source": [
        "encoder = LabelEncoder()\n",
        "\n",
        "images['target'] = encoder.fit_transform(images['target'])\n"
      ],
      "metadata": {
        "id": "ddMPtTZG1WsH"
      },
      "execution_count": null,
      "outputs": []
    },
    {
      "cell_type": "code",
      "source": [
        "cancer_classes = encoder.classes_\n",
        "\n",
        "cancer_classes"
      ],
      "metadata": {
        "colab": {
          "base_uri": "https://localhost:8080/"
        },
        "id": "fZlsyY4x51WA",
        "outputId": "0e02d03e-d9e0-47ff-98b5-410692bd613a"
      },
      "execution_count": null,
      "outputs": [
        {
          "output_type": "execute_result",
          "data": {
            "text/plain": [
              "array(['benign', 'normal'], dtype='<U6')"
            ]
          },
          "metadata": {},
          "execution_count": 9
        }
      ]
    },
    {
      "cell_type": "markdown",
      "source": [
        "## Spliting Of Data"
      ],
      "metadata": {
        "id": "_6RsC4DLSo82"
      }
    },
    {
      "cell_type": "code",
      "source": [
        "from sklearn.model_selection import train_test_split\n",
        "\n",
        "X_train , X_test , y_train , y_test = train_test_split(images['image'] , images['target'] , test_size = 0.2 , random_state=5)\n",
        "\n",
        "X_train.shape , X_test.shape , y_train.shape , y_test.shape"
      ],
      "metadata": {
        "colab": {
          "base_uri": "https://localhost:8080/"
        },
        "id": "o8OQu6mg_gea",
        "outputId": "55984603-2cde-4519-adfc-0babcecfcd3e"
      },
      "execution_count": null,
      "outputs": [
        {
          "output_type": "execute_result",
          "data": {
            "text/plain": [
              "((422, 224, 224, 3), (106, 224, 224, 3), (422,), (106,))"
            ]
          },
          "metadata": {},
          "execution_count": 10
        }
      ]
    },
    {
      "cell_type": "code",
      "source": [
        "base_model = EfficientNetB7(\n",
        "    include_top=False,\n",
        "    weights='imagenet',\n",
        "    input_shape=(*Img_shp, 3),\n",
        "    classes=3)\n",
        "\n",
        "sections = 3\n",
        "\n",
        "base_model.trainable = False\n",
        "model_calc = base_model.output\n",
        "\n",
        "model_calc = layers.Conv2D(256, 3, padding='valid')(model_calc)\n",
        "model_calc = layers.Activation('relu')(model_calc)\n",
        "model_calc = layers.Dropout(0.5)(model_calc)\n",
        "\n",
        "model_calc = layers.Conv2D(128, 3, padding='valid')(model_calc)\n",
        "model_calc = layers.Activation('relu')(model_calc)\n",
        "model_calc = layers.Dropout(0.5)(model_calc)\n",
        "\n",
        "model_calc = layers.Flatten()(model_calc)\n",
        "model_calc = layers.Dense(64 , activation = 'relu')(model_calc)\n",
        "model_calc = layers.Dropout(0.5)(model_calc)\n",
        "model_calc = layers.Dense(64 , activation = 'relu')(model_calc)\n",
        "model_calc = layers.Dropout(0.5)(model_calc)\n",
        "\n",
        "model_calc = layers.Dense(sections  , activation='softmax')(model_calc)\n",
        "\n",
        "model = keras.models.Model(inputs = base_model.inputs , outputs = model_calc)\n",
        "\n",
        "model.compile(\n",
        "    optimizer = 'adam',\n",
        "    loss = 'sparse_categorical_crossentropy',\n",
        "    metrics = [tf.keras.metrics.SparseCategoricalAccuracy()]\n",
        ")"
      ],
      "metadata": {
        "id": "8jJRb9TNAG0e"
      },
      "execution_count": null,
      "outputs": []
    },
    {
      "cell_type": "code",
      "source": [
        "model.fit(X_train , y_train , epochs = 10)"
      ],
      "metadata": {
        "colab": {
          "base_uri": "https://localhost:8080/"
        },
        "id": "JMoTOQMZEkPZ",
        "outputId": "866a6174-1acd-42a9-be61-375c882ba983"
      },
      "execution_count": null,
      "outputs": [
        {
          "output_type": "stream",
          "name": "stdout",
          "text": [
            "Epoch 1/10\n",
            "14/14 [==============================] - 195s 12s/step - loss: 2.3181 - sparse_categorical_accuracy: 0.5213\n",
            "Epoch 2/10\n",
            "14/14 [==============================] - 163s 12s/step - loss: 1.3347 - sparse_categorical_accuracy: 0.6422\n",
            "Epoch 3/10\n",
            "14/14 [==============================] - 163s 12s/step - loss: 1.0246 - sparse_categorical_accuracy: 0.6493\n",
            "Epoch 4/10\n",
            "14/14 [==============================] - 162s 11s/step - loss: 0.8358 - sparse_categorical_accuracy: 0.6682\n",
            "Epoch 5/10\n",
            "14/14 [==============================] - 162s 11s/step - loss: 0.7389 - sparse_categorical_accuracy: 0.6967\n",
            "Epoch 6/10\n",
            "14/14 [==============================] - 161s 11s/step - loss: 0.7369 - sparse_categorical_accuracy: 0.7156\n",
            "Epoch 7/10\n",
            "14/14 [==============================] - 162s 12s/step - loss: 0.6571 - sparse_categorical_accuracy: 0.7133\n",
            "Epoch 8/10\n",
            "14/14 [==============================] - 161s 11s/step - loss: 0.5468 - sparse_categorical_accuracy: 0.7725\n",
            "Epoch 9/10\n",
            "14/14 [==============================] - 162s 12s/step - loss: 0.6053 - sparse_categorical_accuracy: 0.7536\n",
            "Epoch 10/10\n",
            "14/14 [==============================] - 162s 12s/step - loss: 0.6068 - sparse_categorical_accuracy: 0.7251\n"
          ]
        },
        {
          "output_type": "execute_result",
          "data": {
            "text/plain": [
              "<keras.callbacks.History at 0x7fa35e78c150>"
            ]
          },
          "metadata": {},
          "execution_count": 20
        }
      ]
    },
    {
      "cell_type": "code",
      "source": [
        "model.evaluate(X_test,y_test, batch_size=32, verbose=1)"
      ],
      "metadata": {
        "colab": {
          "base_uri": "https://localhost:8080/"
        },
        "id": "c0Smwp7IPQBc",
        "outputId": "90afd730-7873-41be-c381-8d64e68835f9"
      },
      "execution_count": null,
      "outputs": [
        {
          "output_type": "stream",
          "name": "stdout",
          "text": [
            "4/4 [==============================] - 45s 9s/step - loss: 0.4591 - sparse_categorical_accuracy: 0.7453\n"
          ]
        },
        {
          "output_type": "execute_result",
          "data": {
            "text/plain": [
              "[0.45908322930336, 0.7452830076217651]"
            ]
          },
          "metadata": {},
          "execution_count": 22
        }
      ]
    },
    {
      "cell_type": "code",
      "source": [
        ""
      ],
      "metadata": {
        "id": "EjLv2EzmVxX-"
      },
      "execution_count": null,
      "outputs": []
    }
  ],
  "metadata": {
    "colab": {
      "name": "Copy of BREAST_CANCER_IMAGE_CLASSIFICATION .ipynb",
      "provenance": [],
      "collapsed_sections": [],
      "mount_file_id": "1pgPbdTRoAH75FK9bMsIFc1xkwBx93cZ1",
      "authorship_tag": "ABX9TyO9LSsSHMlt/9s5dDcn63b9",
      "include_colab_link": true
    },
    "kernelspec": {
      "display_name": "Python 3",
      "name": "python3"
    },
    "language_info": {
      "name": "python"
    }
  },
  "nbformat": 4,
  "nbformat_minor": 0
}