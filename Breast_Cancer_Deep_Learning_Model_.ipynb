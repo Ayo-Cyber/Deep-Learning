{
  "nbformat": 4,
  "nbformat_minor": 0,
  "metadata": {
    "colab": {
      "name": "Breast Cancer Deep Learning Model .ipynb",
      "provenance": [],
      "authorship_tag": "ABX9TyOtRXCKX+k12WAn6Ycpuf+Z",
      "include_colab_link": true
    },
    "kernelspec": {
      "name": "python3",
      "display_name": "Python 3"
    },
    "language_info": {
      "name": "python"
    }
  },
  "cells": [
    {
      "cell_type": "markdown",
      "metadata": {
        "id": "view-in-github",
        "colab_type": "text"
      },
      "source": [
        "<a href=\"https://colab.research.google.com/github/Ayo-Cyber/Deep-Learning/blob/main/Breast_Cancer_Deep_Learning_Model_.ipynb\" target=\"_parent\"><img src=\"https://colab.research.google.com/assets/colab-badge.svg\" alt=\"Open In Colab\"/></a>"
      ]
    },
    {
      "cell_type": "code",
      "execution_count": 1,
      "metadata": {
        "id": "oqubOemvHXrE"
      },
      "outputs": [],
      "source": [
        "import pandas as pd\n",
        "import numpy as np\n",
        "\n",
        "import matplotlib.pyplot as plt\n",
        "import seaborn as sns\n",
        "import os"
      ]
    },
    {
      "cell_type": "code",
      "source": [
        "df = pd.read_csv(\"/content/METABRIC_RNA_Mutation.csv\")"
      ],
      "metadata": {
        "colab": {
          "base_uri": "https://localhost:8080/"
        },
        "id": "KeigTtqZHqc9",
        "outputId": "c92ab441-c512-45e8-dc3a-0faf719a35ad"
      },
      "execution_count": 2,
      "outputs": [
        {
          "output_type": "stream",
          "name": "stderr",
          "text": [
            "/usr/local/lib/python3.7/dist-packages/IPython/core/interactiveshell.py:2882: DtypeWarning: Columns (645,667,674,678,680,687,690,691) have mixed types.Specify dtype option on import or set low_memory=False.\n",
            "  exec(code_obj, self.user_global_ns, self.user_ns)\n"
          ]
        }
      ]
    },
    {
      "cell_type": "code",
      "source": [
        "df.sample(5)"
      ],
      "metadata": {
        "colab": {
          "base_uri": "https://localhost:8080/",
          "height": 404
        },
        "id": "6Ef42nDwHukm",
        "outputId": "28212f54-dde8-4084-d291-a17fa1436b23"
      },
      "execution_count": 3,
      "outputs": [
        {
          "output_type": "execute_result",
          "data": {
            "text/plain": [
              "      patient_id  age_at_diagnosis type_of_breast_surgery    cancer_type  \\\n",
              "1204        5189             69.24      BREAST CONSERVING  Breast Cancer   \n",
              "1393        5481             57.62      BREAST CONSERVING  Breast Cancer   \n",
              "955         4735             54.18             MASTECTOMY  Breast Cancer   \n",
              "584         2923             37.01             MASTECTOMY  Breast Cancer   \n",
              "1263        5279             66.55             MASTECTOMY  Breast Cancer   \n",
              "\n",
              "                  cancer_type_detailed cellularity  chemotherapy  \\\n",
              "1204  Breast Invasive Ductal Carcinoma    Moderate             0   \n",
              "1393  Breast Invasive Ductal Carcinoma        High             0   \n",
              "955   Breast Invasive Ductal Carcinoma    Moderate             0   \n",
              "584   Breast Invasive Ductal Carcinoma         NaN             1   \n",
              "1263  Breast Invasive Ductal Carcinoma        High             0   \n",
              "\n",
              "     pam50_+_claudin-low_subtype  cohort er_status_measured_by_ihc  ...  \\\n",
              "1204                        LumA     3.0                   Positve  ...   \n",
              "1393                        LumB     3.0                   Positve  ...   \n",
              "955                         LumA     3.0                   Positve  ...   \n",
              "584                         Her2     2.0                  Negative  ...   \n",
              "1263                        LumA     3.0                   Positve  ...   \n",
              "\n",
              "     mtap_mut  ppp2cb_mut smarcd1_mut nras_mut ndfip1_mut  hras_mut prps2_mut  \\\n",
              "1204        0           0           0        0        0.0       0.0         0   \n",
              "1393        0           0           0        0        0.0       0.0         0   \n",
              "955         0           0           0        0          0       0.0         0   \n",
              "584         0           0           0        0          0       0.0         0   \n",
              "1263        0           0           0        0        0.0       0.0         0   \n",
              "\n",
              "     smarcb1_mut stmn2_mut  siah1_mut  \n",
              "1204           0       0.0        0.0  \n",
              "1393           0       0.0        0.0  \n",
              "955            0         0        0.0  \n",
              "584            0         0        0.0  \n",
              "1263           0       0.0        0.0  \n",
              "\n",
              "[5 rows x 693 columns]"
            ],
            "text/html": [
              "\n",
              "  <div id=\"df-b979ae2c-afec-4c2d-96d7-1cc2463aa371\">\n",
              "    <div class=\"colab-df-container\">\n",
              "      <div>\n",
              "<style scoped>\n",
              "    .dataframe tbody tr th:only-of-type {\n",
              "        vertical-align: middle;\n",
              "    }\n",
              "\n",
              "    .dataframe tbody tr th {\n",
              "        vertical-align: top;\n",
              "    }\n",
              "\n",
              "    .dataframe thead th {\n",
              "        text-align: right;\n",
              "    }\n",
              "</style>\n",
              "<table border=\"1\" class=\"dataframe\">\n",
              "  <thead>\n",
              "    <tr style=\"text-align: right;\">\n",
              "      <th></th>\n",
              "      <th>patient_id</th>\n",
              "      <th>age_at_diagnosis</th>\n",
              "      <th>type_of_breast_surgery</th>\n",
              "      <th>cancer_type</th>\n",
              "      <th>cancer_type_detailed</th>\n",
              "      <th>cellularity</th>\n",
              "      <th>chemotherapy</th>\n",
              "      <th>pam50_+_claudin-low_subtype</th>\n",
              "      <th>cohort</th>\n",
              "      <th>er_status_measured_by_ihc</th>\n",
              "      <th>...</th>\n",
              "      <th>mtap_mut</th>\n",
              "      <th>ppp2cb_mut</th>\n",
              "      <th>smarcd1_mut</th>\n",
              "      <th>nras_mut</th>\n",
              "      <th>ndfip1_mut</th>\n",
              "      <th>hras_mut</th>\n",
              "      <th>prps2_mut</th>\n",
              "      <th>smarcb1_mut</th>\n",
              "      <th>stmn2_mut</th>\n",
              "      <th>siah1_mut</th>\n",
              "    </tr>\n",
              "  </thead>\n",
              "  <tbody>\n",
              "    <tr>\n",
              "      <th>1204</th>\n",
              "      <td>5189</td>\n",
              "      <td>69.24</td>\n",
              "      <td>BREAST CONSERVING</td>\n",
              "      <td>Breast Cancer</td>\n",
              "      <td>Breast Invasive Ductal Carcinoma</td>\n",
              "      <td>Moderate</td>\n",
              "      <td>0</td>\n",
              "      <td>LumA</td>\n",
              "      <td>3.0</td>\n",
              "      <td>Positve</td>\n",
              "      <td>...</td>\n",
              "      <td>0</td>\n",
              "      <td>0</td>\n",
              "      <td>0</td>\n",
              "      <td>0</td>\n",
              "      <td>0.0</td>\n",
              "      <td>0.0</td>\n",
              "      <td>0</td>\n",
              "      <td>0</td>\n",
              "      <td>0.0</td>\n",
              "      <td>0.0</td>\n",
              "    </tr>\n",
              "    <tr>\n",
              "      <th>1393</th>\n",
              "      <td>5481</td>\n",
              "      <td>57.62</td>\n",
              "      <td>BREAST CONSERVING</td>\n",
              "      <td>Breast Cancer</td>\n",
              "      <td>Breast Invasive Ductal Carcinoma</td>\n",
              "      <td>High</td>\n",
              "      <td>0</td>\n",
              "      <td>LumB</td>\n",
              "      <td>3.0</td>\n",
              "      <td>Positve</td>\n",
              "      <td>...</td>\n",
              "      <td>0</td>\n",
              "      <td>0</td>\n",
              "      <td>0</td>\n",
              "      <td>0</td>\n",
              "      <td>0.0</td>\n",
              "      <td>0.0</td>\n",
              "      <td>0</td>\n",
              "      <td>0</td>\n",
              "      <td>0.0</td>\n",
              "      <td>0.0</td>\n",
              "    </tr>\n",
              "    <tr>\n",
              "      <th>955</th>\n",
              "      <td>4735</td>\n",
              "      <td>54.18</td>\n",
              "      <td>MASTECTOMY</td>\n",
              "      <td>Breast Cancer</td>\n",
              "      <td>Breast Invasive Ductal Carcinoma</td>\n",
              "      <td>Moderate</td>\n",
              "      <td>0</td>\n",
              "      <td>LumA</td>\n",
              "      <td>3.0</td>\n",
              "      <td>Positve</td>\n",
              "      <td>...</td>\n",
              "      <td>0</td>\n",
              "      <td>0</td>\n",
              "      <td>0</td>\n",
              "      <td>0</td>\n",
              "      <td>0</td>\n",
              "      <td>0.0</td>\n",
              "      <td>0</td>\n",
              "      <td>0</td>\n",
              "      <td>0</td>\n",
              "      <td>0.0</td>\n",
              "    </tr>\n",
              "    <tr>\n",
              "      <th>584</th>\n",
              "      <td>2923</td>\n",
              "      <td>37.01</td>\n",
              "      <td>MASTECTOMY</td>\n",
              "      <td>Breast Cancer</td>\n",
              "      <td>Breast Invasive Ductal Carcinoma</td>\n",
              "      <td>NaN</td>\n",
              "      <td>1</td>\n",
              "      <td>Her2</td>\n",
              "      <td>2.0</td>\n",
              "      <td>Negative</td>\n",
              "      <td>...</td>\n",
              "      <td>0</td>\n",
              "      <td>0</td>\n",
              "      <td>0</td>\n",
              "      <td>0</td>\n",
              "      <td>0</td>\n",
              "      <td>0.0</td>\n",
              "      <td>0</td>\n",
              "      <td>0</td>\n",
              "      <td>0</td>\n",
              "      <td>0.0</td>\n",
              "    </tr>\n",
              "    <tr>\n",
              "      <th>1263</th>\n",
              "      <td>5279</td>\n",
              "      <td>66.55</td>\n",
              "      <td>MASTECTOMY</td>\n",
              "      <td>Breast Cancer</td>\n",
              "      <td>Breast Invasive Ductal Carcinoma</td>\n",
              "      <td>High</td>\n",
              "      <td>0</td>\n",
              "      <td>LumA</td>\n",
              "      <td>3.0</td>\n",
              "      <td>Positve</td>\n",
              "      <td>...</td>\n",
              "      <td>0</td>\n",
              "      <td>0</td>\n",
              "      <td>0</td>\n",
              "      <td>0</td>\n",
              "      <td>0.0</td>\n",
              "      <td>0.0</td>\n",
              "      <td>0</td>\n",
              "      <td>0</td>\n",
              "      <td>0.0</td>\n",
              "      <td>0.0</td>\n",
              "    </tr>\n",
              "  </tbody>\n",
              "</table>\n",
              "<p>5 rows × 693 columns</p>\n",
              "</div>\n",
              "      <button class=\"colab-df-convert\" onclick=\"convertToInteractive('df-b979ae2c-afec-4c2d-96d7-1cc2463aa371')\"\n",
              "              title=\"Convert this dataframe to an interactive table.\"\n",
              "              style=\"display:none;\">\n",
              "        \n",
              "  <svg xmlns=\"http://www.w3.org/2000/svg\" height=\"24px\"viewBox=\"0 0 24 24\"\n",
              "       width=\"24px\">\n",
              "    <path d=\"M0 0h24v24H0V0z\" fill=\"none\"/>\n",
              "    <path d=\"M18.56 5.44l.94 2.06.94-2.06 2.06-.94-2.06-.94-.94-2.06-.94 2.06-2.06.94zm-11 1L8.5 8.5l.94-2.06 2.06-.94-2.06-.94L8.5 2.5l-.94 2.06-2.06.94zm10 10l.94 2.06.94-2.06 2.06-.94-2.06-.94-.94-2.06-.94 2.06-2.06.94z\"/><path d=\"M17.41 7.96l-1.37-1.37c-.4-.4-.92-.59-1.43-.59-.52 0-1.04.2-1.43.59L10.3 9.45l-7.72 7.72c-.78.78-.78 2.05 0 2.83L4 21.41c.39.39.9.59 1.41.59.51 0 1.02-.2 1.41-.59l7.78-7.78 2.81-2.81c.8-.78.8-2.07 0-2.86zM5.41 20L4 18.59l7.72-7.72 1.47 1.35L5.41 20z\"/>\n",
              "  </svg>\n",
              "      </button>\n",
              "      \n",
              "  <style>\n",
              "    .colab-df-container {\n",
              "      display:flex;\n",
              "      flex-wrap:wrap;\n",
              "      gap: 12px;\n",
              "    }\n",
              "\n",
              "    .colab-df-convert {\n",
              "      background-color: #E8F0FE;\n",
              "      border: none;\n",
              "      border-radius: 50%;\n",
              "      cursor: pointer;\n",
              "      display: none;\n",
              "      fill: #1967D2;\n",
              "      height: 32px;\n",
              "      padding: 0 0 0 0;\n",
              "      width: 32px;\n",
              "    }\n",
              "\n",
              "    .colab-df-convert:hover {\n",
              "      background-color: #E2EBFA;\n",
              "      box-shadow: 0px 1px 2px rgba(60, 64, 67, 0.3), 0px 1px 3px 1px rgba(60, 64, 67, 0.15);\n",
              "      fill: #174EA6;\n",
              "    }\n",
              "\n",
              "    [theme=dark] .colab-df-convert {\n",
              "      background-color: #3B4455;\n",
              "      fill: #D2E3FC;\n",
              "    }\n",
              "\n",
              "    [theme=dark] .colab-df-convert:hover {\n",
              "      background-color: #434B5C;\n",
              "      box-shadow: 0px 1px 3px 1px rgba(0, 0, 0, 0.15);\n",
              "      filter: drop-shadow(0px 1px 2px rgba(0, 0, 0, 0.3));\n",
              "      fill: #FFFFFF;\n",
              "    }\n",
              "  </style>\n",
              "\n",
              "      <script>\n",
              "        const buttonEl =\n",
              "          document.querySelector('#df-b979ae2c-afec-4c2d-96d7-1cc2463aa371 button.colab-df-convert');\n",
              "        buttonEl.style.display =\n",
              "          google.colab.kernel.accessAllowed ? 'block' : 'none';\n",
              "\n",
              "        async function convertToInteractive(key) {\n",
              "          const element = document.querySelector('#df-b979ae2c-afec-4c2d-96d7-1cc2463aa371');\n",
              "          const dataTable =\n",
              "            await google.colab.kernel.invokeFunction('convertToInteractive',\n",
              "                                                     [key], {});\n",
              "          if (!dataTable) return;\n",
              "\n",
              "          const docLinkHtml = 'Like what you see? Visit the ' +\n",
              "            '<a target=\"_blank\" href=https://colab.research.google.com/notebooks/data_table.ipynb>data table notebook</a>'\n",
              "            + ' to learn more about interactive tables.';\n",
              "          element.innerHTML = '';\n",
              "          dataTable['output_type'] = 'display_data';\n",
              "          await google.colab.output.renderOutput(dataTable, element);\n",
              "          const docLink = document.createElement('div');\n",
              "          docLink.innerHTML = docLinkHtml;\n",
              "          element.appendChild(docLink);\n",
              "        }\n",
              "      </script>\n",
              "    </div>\n",
              "  </div>\n",
              "  "
            ]
          },
          "metadata": {},
          "execution_count": 3
        }
      ]
    },
    {
      "cell_type": "code",
      "source": [
        "df.shape"
      ],
      "metadata": {
        "colab": {
          "base_uri": "https://localhost:8080/"
        },
        "id": "kzmh-3ZmHxmX",
        "outputId": "ef93162c-cb6d-40ee-ad89-f9e8629e5590"
      },
      "execution_count": 4,
      "outputs": [
        {
          "output_type": "execute_result",
          "data": {
            "text/plain": [
              "(1429, 693)"
            ]
          },
          "metadata": {},
          "execution_count": 4
        }
      ]
    },
    {
      "cell_type": "code",
      "source": [
        "df.columns[:31]"
      ],
      "metadata": {
        "colab": {
          "base_uri": "https://localhost:8080/"
        },
        "id": "gkP-iQMNKW_I",
        "outputId": "6a682f4a-8be1-4cf3-f310-ff96e86966ae"
      },
      "execution_count": 5,
      "outputs": [
        {
          "output_type": "execute_result",
          "data": {
            "text/plain": [
              "Index(['patient_id', 'age_at_diagnosis', 'type_of_breast_surgery',\n",
              "       'cancer_type', 'cancer_type_detailed', 'cellularity', 'chemotherapy',\n",
              "       'pam50_+_claudin-low_subtype', 'cohort', 'er_status_measured_by_ihc',\n",
              "       'er_status', 'neoplasm_histologic_grade',\n",
              "       'her2_status_measured_by_snp6', 'her2_status',\n",
              "       'tumor_other_histologic_subtype', 'hormone_therapy',\n",
              "       'inferred_menopausal_state', 'integrative_cluster',\n",
              "       'primary_tumor_laterality', 'lymph_nodes_examined_positive',\n",
              "       'mutation_count', 'nottingham_prognostic_index', 'oncotree_code',\n",
              "       'overall_survival_months', 'overall_survival', 'pr_status',\n",
              "       'radio_therapy', '3-gene_classifier_subtype', 'tumor_size',\n",
              "       'tumor_stage', 'death_from_cancer'],\n",
              "      dtype='object')"
            ]
          },
          "metadata": {},
          "execution_count": 5
        }
      ]
    },
    {
      "cell_type": "code",
      "source": [
        "df_copy = df.iloc[:,:31]"
      ],
      "metadata": {
        "id": "bmz9xyUsLnKX"
      },
      "execution_count": 6,
      "outputs": []
    },
    {
      "cell_type": "code",
      "source": [
        "df_copy"
      ],
      "metadata": {
        "colab": {
          "base_uri": "https://localhost:8080/",
          "height": 679
        },
        "id": "LJ9qwRK7M4Ac",
        "outputId": "98c3a0b3-625c-449c-97b6-6f77c7192ef8"
      },
      "execution_count": 7,
      "outputs": [
        {
          "output_type": "execute_result",
          "data": {
            "text/plain": [
              "      patient_id  age_at_diagnosis type_of_breast_surgery    cancer_type  \\\n",
              "0              0             75.65             MASTECTOMY  Breast Cancer   \n",
              "1              2             43.19      BREAST CONSERVING  Breast Cancer   \n",
              "2              5             48.87             MASTECTOMY  Breast Cancer   \n",
              "3              6             47.68             MASTECTOMY  Breast Cancer   \n",
              "4              8             76.97             MASTECTOMY  Breast Cancer   \n",
              "...          ...               ...                    ...            ...   \n",
              "1424        5532             69.66             MASTECTOMY  Breast Cancer   \n",
              "1425        5533             71.64      BREAST CONSERVING  Breast Cancer   \n",
              "1426        5534             80.09             MASTECTOMY  Breast Cancer   \n",
              "1427        5535             49.87             MASTECTOMY  Breast Cancer   \n",
              "1428        5540             76.53      BREAST CONSERVING  Breast Cancer   \n",
              "\n",
              "                           cancer_type_detailed cellularity  chemotherapy  \\\n",
              "0              Breast Invasive Ductal Carcinoma         NaN             0   \n",
              "1              Breast Invasive Ductal Carcinoma        High             0   \n",
              "2              Breast Invasive Ductal Carcinoma        High             1   \n",
              "3     Breast Mixed Ductal and Lobular Carcinoma    Moderate             1   \n",
              "4     Breast Mixed Ductal and Lobular Carcinoma        High             1   \n",
              "...                                         ...         ...           ...   \n",
              "1424           Breast Invasive Ductal Carcinoma        High             0   \n",
              "1425  Breast Mixed Ductal and Lobular Carcinoma         Low             0   \n",
              "1426           Breast Invasive Ductal Carcinoma    Moderate             0   \n",
              "1427           Breast Invasive Ductal Carcinoma        High             1   \n",
              "1428  Breast Mixed Ductal and Lobular Carcinoma        High             0   \n",
              "\n",
              "     pam50_+_claudin-low_subtype  cohort er_status_measured_by_ihc  ...  \\\n",
              "0                    claudin-low     1.0                   Positve  ...   \n",
              "1                           LumA     1.0                   Positve  ...   \n",
              "2                           LumB     1.0                   Positve  ...   \n",
              "3                           LumB     1.0                   Positve  ...   \n",
              "4                           LumB     1.0                   Positve  ...   \n",
              "...                          ...     ...                       ...  ...   \n",
              "1424                        LumA     3.0                   Positve  ...   \n",
              "1425                      Normal     3.0                   Positve  ...   \n",
              "1426                 claudin-low     3.0                   Positve  ...   \n",
              "1427                        Her2     3.0                  Negative  ...   \n",
              "1428                        LumB     3.0                   Positve  ...   \n",
              "\n",
              "     nottingham_prognostic_index  oncotree_code overall_survival_months  \\\n",
              "0                          6.044            IDC              140.500000   \n",
              "1                          4.020            IDC               84.633333   \n",
              "2                          4.030            IDC              163.700000   \n",
              "3                          4.050           MDLC              164.933333   \n",
              "4                          6.080           MDLC               41.366667   \n",
              "...                          ...            ...                     ...   \n",
              "1424                       4.060            IDC               79.866667   \n",
              "1425                       5.040           MDLC              158.033333   \n",
              "1426                       5.050            IDC               79.100000   \n",
              "1427                       6.044            IDC              120.133333   \n",
              "1428                       6.040           MDLC               48.433333   \n",
              "\n",
              "     overall_survival pr_status  radio_therapy 3-gene_classifier_subtype  \\\n",
              "0                   1  Negative              1                 ER-/HER2-   \n",
              "1                   1  Positive              1     ER+/HER2- High Prolif   \n",
              "2                   0  Positive              0                       NaN   \n",
              "3                   1  Positive              1                       NaN   \n",
              "4                   0  Positive              1     ER+/HER2- High Prolif   \n",
              "...               ...       ...            ...                       ...   \n",
              "1424                0  Negative              0     ER+/HER2- High Prolif   \n",
              "1425                1  Positive              1      ER+/HER2- Low Prolif   \n",
              "1426                0  Negative              1                 ER-/HER2-   \n",
              "1427                0  Negative              1                     HER2+   \n",
              "1428                0  Negative              0     ER+/HER2- High Prolif   \n",
              "\n",
              "     tumor_size tumor_stage  death_from_cancer  \n",
              "0          22.0         2.0             Living  \n",
              "1          10.0         1.0             Living  \n",
              "2          15.0         2.0    Died of Disease  \n",
              "3          25.0         2.0             Living  \n",
              "4          40.0         2.0    Died of Disease  \n",
              "...         ...         ...                ...  \n",
              "1424       30.0         2.0    Died of Disease  \n",
              "1425       20.0         2.0             Living  \n",
              "1426       25.0         3.0    Died of Disease  \n",
              "1427       22.0         2.0    Died of Disease  \n",
              "1428       20.0         NaN    Died of Disease  \n",
              "\n",
              "[1429 rows x 31 columns]"
            ],
            "text/html": [
              "\n",
              "  <div id=\"df-6a468dcb-fd27-435f-8828-53fe47eb5a00\">\n",
              "    <div class=\"colab-df-container\">\n",
              "      <div>\n",
              "<style scoped>\n",
              "    .dataframe tbody tr th:only-of-type {\n",
              "        vertical-align: middle;\n",
              "    }\n",
              "\n",
              "    .dataframe tbody tr th {\n",
              "        vertical-align: top;\n",
              "    }\n",
              "\n",
              "    .dataframe thead th {\n",
              "        text-align: right;\n",
              "    }\n",
              "</style>\n",
              "<table border=\"1\" class=\"dataframe\">\n",
              "  <thead>\n",
              "    <tr style=\"text-align: right;\">\n",
              "      <th></th>\n",
              "      <th>patient_id</th>\n",
              "      <th>age_at_diagnosis</th>\n",
              "      <th>type_of_breast_surgery</th>\n",
              "      <th>cancer_type</th>\n",
              "      <th>cancer_type_detailed</th>\n",
              "      <th>cellularity</th>\n",
              "      <th>chemotherapy</th>\n",
              "      <th>pam50_+_claudin-low_subtype</th>\n",
              "      <th>cohort</th>\n",
              "      <th>er_status_measured_by_ihc</th>\n",
              "      <th>...</th>\n",
              "      <th>nottingham_prognostic_index</th>\n",
              "      <th>oncotree_code</th>\n",
              "      <th>overall_survival_months</th>\n",
              "      <th>overall_survival</th>\n",
              "      <th>pr_status</th>\n",
              "      <th>radio_therapy</th>\n",
              "      <th>3-gene_classifier_subtype</th>\n",
              "      <th>tumor_size</th>\n",
              "      <th>tumor_stage</th>\n",
              "      <th>death_from_cancer</th>\n",
              "    </tr>\n",
              "  </thead>\n",
              "  <tbody>\n",
              "    <tr>\n",
              "      <th>0</th>\n",
              "      <td>0</td>\n",
              "      <td>75.65</td>\n",
              "      <td>MASTECTOMY</td>\n",
              "      <td>Breast Cancer</td>\n",
              "      <td>Breast Invasive Ductal Carcinoma</td>\n",
              "      <td>NaN</td>\n",
              "      <td>0</td>\n",
              "      <td>claudin-low</td>\n",
              "      <td>1.0</td>\n",
              "      <td>Positve</td>\n",
              "      <td>...</td>\n",
              "      <td>6.044</td>\n",
              "      <td>IDC</td>\n",
              "      <td>140.500000</td>\n",
              "      <td>1</td>\n",
              "      <td>Negative</td>\n",
              "      <td>1</td>\n",
              "      <td>ER-/HER2-</td>\n",
              "      <td>22.0</td>\n",
              "      <td>2.0</td>\n",
              "      <td>Living</td>\n",
              "    </tr>\n",
              "    <tr>\n",
              "      <th>1</th>\n",
              "      <td>2</td>\n",
              "      <td>43.19</td>\n",
              "      <td>BREAST CONSERVING</td>\n",
              "      <td>Breast Cancer</td>\n",
              "      <td>Breast Invasive Ductal Carcinoma</td>\n",
              "      <td>High</td>\n",
              "      <td>0</td>\n",
              "      <td>LumA</td>\n",
              "      <td>1.0</td>\n",
              "      <td>Positve</td>\n",
              "      <td>...</td>\n",
              "      <td>4.020</td>\n",
              "      <td>IDC</td>\n",
              "      <td>84.633333</td>\n",
              "      <td>1</td>\n",
              "      <td>Positive</td>\n",
              "      <td>1</td>\n",
              "      <td>ER+/HER2- High Prolif</td>\n",
              "      <td>10.0</td>\n",
              "      <td>1.0</td>\n",
              "      <td>Living</td>\n",
              "    </tr>\n",
              "    <tr>\n",
              "      <th>2</th>\n",
              "      <td>5</td>\n",
              "      <td>48.87</td>\n",
              "      <td>MASTECTOMY</td>\n",
              "      <td>Breast Cancer</td>\n",
              "      <td>Breast Invasive Ductal Carcinoma</td>\n",
              "      <td>High</td>\n",
              "      <td>1</td>\n",
              "      <td>LumB</td>\n",
              "      <td>1.0</td>\n",
              "      <td>Positve</td>\n",
              "      <td>...</td>\n",
              "      <td>4.030</td>\n",
              "      <td>IDC</td>\n",
              "      <td>163.700000</td>\n",
              "      <td>0</td>\n",
              "      <td>Positive</td>\n",
              "      <td>0</td>\n",
              "      <td>NaN</td>\n",
              "      <td>15.0</td>\n",
              "      <td>2.0</td>\n",
              "      <td>Died of Disease</td>\n",
              "    </tr>\n",
              "    <tr>\n",
              "      <th>3</th>\n",
              "      <td>6</td>\n",
              "      <td>47.68</td>\n",
              "      <td>MASTECTOMY</td>\n",
              "      <td>Breast Cancer</td>\n",
              "      <td>Breast Mixed Ductal and Lobular Carcinoma</td>\n",
              "      <td>Moderate</td>\n",
              "      <td>1</td>\n",
              "      <td>LumB</td>\n",
              "      <td>1.0</td>\n",
              "      <td>Positve</td>\n",
              "      <td>...</td>\n",
              "      <td>4.050</td>\n",
              "      <td>MDLC</td>\n",
              "      <td>164.933333</td>\n",
              "      <td>1</td>\n",
              "      <td>Positive</td>\n",
              "      <td>1</td>\n",
              "      <td>NaN</td>\n",
              "      <td>25.0</td>\n",
              "      <td>2.0</td>\n",
              "      <td>Living</td>\n",
              "    </tr>\n",
              "    <tr>\n",
              "      <th>4</th>\n",
              "      <td>8</td>\n",
              "      <td>76.97</td>\n",
              "      <td>MASTECTOMY</td>\n",
              "      <td>Breast Cancer</td>\n",
              "      <td>Breast Mixed Ductal and Lobular Carcinoma</td>\n",
              "      <td>High</td>\n",
              "      <td>1</td>\n",
              "      <td>LumB</td>\n",
              "      <td>1.0</td>\n",
              "      <td>Positve</td>\n",
              "      <td>...</td>\n",
              "      <td>6.080</td>\n",
              "      <td>MDLC</td>\n",
              "      <td>41.366667</td>\n",
              "      <td>0</td>\n",
              "      <td>Positive</td>\n",
              "      <td>1</td>\n",
              "      <td>ER+/HER2- High Prolif</td>\n",
              "      <td>40.0</td>\n",
              "      <td>2.0</td>\n",
              "      <td>Died of Disease</td>\n",
              "    </tr>\n",
              "    <tr>\n",
              "      <th>...</th>\n",
              "      <td>...</td>\n",
              "      <td>...</td>\n",
              "      <td>...</td>\n",
              "      <td>...</td>\n",
              "      <td>...</td>\n",
              "      <td>...</td>\n",
              "      <td>...</td>\n",
              "      <td>...</td>\n",
              "      <td>...</td>\n",
              "      <td>...</td>\n",
              "      <td>...</td>\n",
              "      <td>...</td>\n",
              "      <td>...</td>\n",
              "      <td>...</td>\n",
              "      <td>...</td>\n",
              "      <td>...</td>\n",
              "      <td>...</td>\n",
              "      <td>...</td>\n",
              "      <td>...</td>\n",
              "      <td>...</td>\n",
              "      <td>...</td>\n",
              "    </tr>\n",
              "    <tr>\n",
              "      <th>1424</th>\n",
              "      <td>5532</td>\n",
              "      <td>69.66</td>\n",
              "      <td>MASTECTOMY</td>\n",
              "      <td>Breast Cancer</td>\n",
              "      <td>Breast Invasive Ductal Carcinoma</td>\n",
              "      <td>High</td>\n",
              "      <td>0</td>\n",
              "      <td>LumA</td>\n",
              "      <td>3.0</td>\n",
              "      <td>Positve</td>\n",
              "      <td>...</td>\n",
              "      <td>4.060</td>\n",
              "      <td>IDC</td>\n",
              "      <td>79.866667</td>\n",
              "      <td>0</td>\n",
              "      <td>Negative</td>\n",
              "      <td>0</td>\n",
              "      <td>ER+/HER2- High Prolif</td>\n",
              "      <td>30.0</td>\n",
              "      <td>2.0</td>\n",
              "      <td>Died of Disease</td>\n",
              "    </tr>\n",
              "    <tr>\n",
              "      <th>1425</th>\n",
              "      <td>5533</td>\n",
              "      <td>71.64</td>\n",
              "      <td>BREAST CONSERVING</td>\n",
              "      <td>Breast Cancer</td>\n",
              "      <td>Breast Mixed Ductal and Lobular Carcinoma</td>\n",
              "      <td>Low</td>\n",
              "      <td>0</td>\n",
              "      <td>Normal</td>\n",
              "      <td>3.0</td>\n",
              "      <td>Positve</td>\n",
              "      <td>...</td>\n",
              "      <td>5.040</td>\n",
              "      <td>MDLC</td>\n",
              "      <td>158.033333</td>\n",
              "      <td>1</td>\n",
              "      <td>Positive</td>\n",
              "      <td>1</td>\n",
              "      <td>ER+/HER2- Low Prolif</td>\n",
              "      <td>20.0</td>\n",
              "      <td>2.0</td>\n",
              "      <td>Living</td>\n",
              "    </tr>\n",
              "    <tr>\n",
              "      <th>1426</th>\n",
              "      <td>5534</td>\n",
              "      <td>80.09</td>\n",
              "      <td>MASTECTOMY</td>\n",
              "      <td>Breast Cancer</td>\n",
              "      <td>Breast Invasive Ductal Carcinoma</td>\n",
              "      <td>Moderate</td>\n",
              "      <td>0</td>\n",
              "      <td>claudin-low</td>\n",
              "      <td>3.0</td>\n",
              "      <td>Positve</td>\n",
              "      <td>...</td>\n",
              "      <td>5.050</td>\n",
              "      <td>IDC</td>\n",
              "      <td>79.100000</td>\n",
              "      <td>0</td>\n",
              "      <td>Negative</td>\n",
              "      <td>1</td>\n",
              "      <td>ER-/HER2-</td>\n",
              "      <td>25.0</td>\n",
              "      <td>3.0</td>\n",
              "      <td>Died of Disease</td>\n",
              "    </tr>\n",
              "    <tr>\n",
              "      <th>1427</th>\n",
              "      <td>5535</td>\n",
              "      <td>49.87</td>\n",
              "      <td>MASTECTOMY</td>\n",
              "      <td>Breast Cancer</td>\n",
              "      <td>Breast Invasive Ductal Carcinoma</td>\n",
              "      <td>High</td>\n",
              "      <td>1</td>\n",
              "      <td>Her2</td>\n",
              "      <td>3.0</td>\n",
              "      <td>Negative</td>\n",
              "      <td>...</td>\n",
              "      <td>6.044</td>\n",
              "      <td>IDC</td>\n",
              "      <td>120.133333</td>\n",
              "      <td>0</td>\n",
              "      <td>Negative</td>\n",
              "      <td>1</td>\n",
              "      <td>HER2+</td>\n",
              "      <td>22.0</td>\n",
              "      <td>2.0</td>\n",
              "      <td>Died of Disease</td>\n",
              "    </tr>\n",
              "    <tr>\n",
              "      <th>1428</th>\n",
              "      <td>5540</td>\n",
              "      <td>76.53</td>\n",
              "      <td>BREAST CONSERVING</td>\n",
              "      <td>Breast Cancer</td>\n",
              "      <td>Breast Mixed Ductal and Lobular Carcinoma</td>\n",
              "      <td>High</td>\n",
              "      <td>0</td>\n",
              "      <td>LumB</td>\n",
              "      <td>3.0</td>\n",
              "      <td>Positve</td>\n",
              "      <td>...</td>\n",
              "      <td>6.040</td>\n",
              "      <td>MDLC</td>\n",
              "      <td>48.433333</td>\n",
              "      <td>0</td>\n",
              "      <td>Negative</td>\n",
              "      <td>0</td>\n",
              "      <td>ER+/HER2- High Prolif</td>\n",
              "      <td>20.0</td>\n",
              "      <td>NaN</td>\n",
              "      <td>Died of Disease</td>\n",
              "    </tr>\n",
              "  </tbody>\n",
              "</table>\n",
              "<p>1429 rows × 31 columns</p>\n",
              "</div>\n",
              "      <button class=\"colab-df-convert\" onclick=\"convertToInteractive('df-6a468dcb-fd27-435f-8828-53fe47eb5a00')\"\n",
              "              title=\"Convert this dataframe to an interactive table.\"\n",
              "              style=\"display:none;\">\n",
              "        \n",
              "  <svg xmlns=\"http://www.w3.org/2000/svg\" height=\"24px\"viewBox=\"0 0 24 24\"\n",
              "       width=\"24px\">\n",
              "    <path d=\"M0 0h24v24H0V0z\" fill=\"none\"/>\n",
              "    <path d=\"M18.56 5.44l.94 2.06.94-2.06 2.06-.94-2.06-.94-.94-2.06-.94 2.06-2.06.94zm-11 1L8.5 8.5l.94-2.06 2.06-.94-2.06-.94L8.5 2.5l-.94 2.06-2.06.94zm10 10l.94 2.06.94-2.06 2.06-.94-2.06-.94-.94-2.06-.94 2.06-2.06.94z\"/><path d=\"M17.41 7.96l-1.37-1.37c-.4-.4-.92-.59-1.43-.59-.52 0-1.04.2-1.43.59L10.3 9.45l-7.72 7.72c-.78.78-.78 2.05 0 2.83L4 21.41c.39.39.9.59 1.41.59.51 0 1.02-.2 1.41-.59l7.78-7.78 2.81-2.81c.8-.78.8-2.07 0-2.86zM5.41 20L4 18.59l7.72-7.72 1.47 1.35L5.41 20z\"/>\n",
              "  </svg>\n",
              "      </button>\n",
              "      \n",
              "  <style>\n",
              "    .colab-df-container {\n",
              "      display:flex;\n",
              "      flex-wrap:wrap;\n",
              "      gap: 12px;\n",
              "    }\n",
              "\n",
              "    .colab-df-convert {\n",
              "      background-color: #E8F0FE;\n",
              "      border: none;\n",
              "      border-radius: 50%;\n",
              "      cursor: pointer;\n",
              "      display: none;\n",
              "      fill: #1967D2;\n",
              "      height: 32px;\n",
              "      padding: 0 0 0 0;\n",
              "      width: 32px;\n",
              "    }\n",
              "\n",
              "    .colab-df-convert:hover {\n",
              "      background-color: #E2EBFA;\n",
              "      box-shadow: 0px 1px 2px rgba(60, 64, 67, 0.3), 0px 1px 3px 1px rgba(60, 64, 67, 0.15);\n",
              "      fill: #174EA6;\n",
              "    }\n",
              "\n",
              "    [theme=dark] .colab-df-convert {\n",
              "      background-color: #3B4455;\n",
              "      fill: #D2E3FC;\n",
              "    }\n",
              "\n",
              "    [theme=dark] .colab-df-convert:hover {\n",
              "      background-color: #434B5C;\n",
              "      box-shadow: 0px 1px 3px 1px rgba(0, 0, 0, 0.15);\n",
              "      filter: drop-shadow(0px 1px 2px rgba(0, 0, 0, 0.3));\n",
              "      fill: #FFFFFF;\n",
              "    }\n",
              "  </style>\n",
              "\n",
              "      <script>\n",
              "        const buttonEl =\n",
              "          document.querySelector('#df-6a468dcb-fd27-435f-8828-53fe47eb5a00 button.colab-df-convert');\n",
              "        buttonEl.style.display =\n",
              "          google.colab.kernel.accessAllowed ? 'block' : 'none';\n",
              "\n",
              "        async function convertToInteractive(key) {\n",
              "          const element = document.querySelector('#df-6a468dcb-fd27-435f-8828-53fe47eb5a00');\n",
              "          const dataTable =\n",
              "            await google.colab.kernel.invokeFunction('convertToInteractive',\n",
              "                                                     [key], {});\n",
              "          if (!dataTable) return;\n",
              "\n",
              "          const docLinkHtml = 'Like what you see? Visit the ' +\n",
              "            '<a target=\"_blank\" href=https://colab.research.google.com/notebooks/data_table.ipynb>data table notebook</a>'\n",
              "            + ' to learn more about interactive tables.';\n",
              "          element.innerHTML = '';\n",
              "          dataTable['output_type'] = 'display_data';\n",
              "          await google.colab.output.renderOutput(dataTable, element);\n",
              "          const docLink = document.createElement('div');\n",
              "          docLink.innerHTML = docLinkHtml;\n",
              "          element.appendChild(docLink);\n",
              "        }\n",
              "      </script>\n",
              "    </div>\n",
              "  </div>\n",
              "  "
            ]
          },
          "metadata": {},
          "execution_count": 7
        }
      ]
    },
    {
      "cell_type": "code",
      "source": [
        "df_copy.isna().sum()"
      ],
      "metadata": {
        "colab": {
          "base_uri": "https://localhost:8080/"
        },
        "id": "RsBNlxu7M5k0",
        "outputId": "e20e3952-fad6-46e6-f5b7-70d5ebda078c"
      },
      "execution_count": 8,
      "outputs": [
        {
          "output_type": "execute_result",
          "data": {
            "text/plain": [
              "patient_id                          0\n",
              "age_at_diagnosis                    0\n",
              "type_of_breast_surgery             22\n",
              "cancer_type                         0\n",
              "cancer_type_detailed                9\n",
              "cellularity                        50\n",
              "chemotherapy                        0\n",
              "pam50_+_claudin-low_subtype         0\n",
              "cohort                              0\n",
              "er_status_measured_by_ihc          23\n",
              "er_status                           0\n",
              "neoplasm_histologic_grade          60\n",
              "her2_status_measured_by_snp6        0\n",
              "her2_status                         0\n",
              "tumor_other_histologic_subtype      9\n",
              "hormone_therapy                     0\n",
              "inferred_menopausal_state           0\n",
              "integrative_cluster                 0\n",
              "primary_tumor_laterality           25\n",
              "lymph_nodes_examined_positive       0\n",
              "mutation_count                     45\n",
              "nottingham_prognostic_index         0\n",
              "oncotree_code                       9\n",
              "overall_survival_months             0\n",
              "overall_survival                    0\n",
              "pr_status                           0\n",
              "radio_therapy                       0\n",
              "3-gene_classifier_subtype         170\n",
              "tumor_size                          9\n",
              "tumor_stage                       106\n",
              "death_from_cancer                   1\n",
              "dtype: int64"
            ]
          },
          "metadata": {},
          "execution_count": 8
        }
      ]
    },
    {
      "cell_type": "code",
      "source": [
        "df_copy.shape"
      ],
      "metadata": {
        "colab": {
          "base_uri": "https://localhost:8080/"
        },
        "id": "1YP6ajYtN4kC",
        "outputId": "b3526da6-5c6b-4421-95d2-4aad9391dacc"
      },
      "execution_count": 9,
      "outputs": [
        {
          "output_type": "execute_result",
          "data": {
            "text/plain": [
              "(1429, 31)"
            ]
          },
          "metadata": {},
          "execution_count": 9
        }
      ]
    },
    {
      "cell_type": "code",
      "source": [
        "df_copy.dropna(axis=0 , inplace = True)"
      ],
      "metadata": {
        "id": "w3A-SAo2N72S"
      },
      "execution_count": 10,
      "outputs": []
    },
    {
      "cell_type": "code",
      "source": [
        "df_copy.shape"
      ],
      "metadata": {
        "colab": {
          "base_uri": "https://localhost:8080/"
        },
        "id": "Vbq4UFlEOA13",
        "outputId": "7c14b3ac-3788-4c3b-ec4f-d1de364b2add"
      },
      "execution_count": 11,
      "outputs": [
        {
          "output_type": "execute_result",
          "data": {
            "text/plain": [
              "(1016, 31)"
            ]
          },
          "metadata": {},
          "execution_count": 11
        }
      ]
    },
    {
      "cell_type": "code",
      "source": [
        "df_copy.columns"
      ],
      "metadata": {
        "colab": {
          "base_uri": "https://localhost:8080/"
        },
        "id": "Ja_1gd9cOCjG",
        "outputId": "43ca2e4f-8d28-4bc4-8fe6-127e59e5e5fb"
      },
      "execution_count": 12,
      "outputs": [
        {
          "output_type": "execute_result",
          "data": {
            "text/plain": [
              "Index(['patient_id', 'age_at_diagnosis', 'type_of_breast_surgery',\n",
              "       'cancer_type', 'cancer_type_detailed', 'cellularity', 'chemotherapy',\n",
              "       'pam50_+_claudin-low_subtype', 'cohort', 'er_status_measured_by_ihc',\n",
              "       'er_status', 'neoplasm_histologic_grade',\n",
              "       'her2_status_measured_by_snp6', 'her2_status',\n",
              "       'tumor_other_histologic_subtype', 'hormone_therapy',\n",
              "       'inferred_menopausal_state', 'integrative_cluster',\n",
              "       'primary_tumor_laterality', 'lymph_nodes_examined_positive',\n",
              "       'mutation_count', 'nottingham_prognostic_index', 'oncotree_code',\n",
              "       'overall_survival_months', 'overall_survival', 'pr_status',\n",
              "       'radio_therapy', '3-gene_classifier_subtype', 'tumor_size',\n",
              "       'tumor_stage', 'death_from_cancer'],\n",
              "      dtype='object')"
            ]
          },
          "metadata": {},
          "execution_count": 12
        }
      ]
    },
    {
      "cell_type": "code",
      "source": [
        "df_copy['pam50_+_claudin-low_subtype'].unique()"
      ],
      "metadata": {
        "colab": {
          "base_uri": "https://localhost:8080/"
        },
        "id": "ONy-cfA7OsB5",
        "outputId": "672fb0d0-4eea-435e-f8bc-a77a9c15a1b4"
      },
      "execution_count": 13,
      "outputs": [
        {
          "output_type": "execute_result",
          "data": {
            "text/plain": [
              "array(['LumA', 'LumB', 'Her2', 'Basal', 'Normal', 'claudin-low', 'NC'],\n",
              "      dtype=object)"
            ]
          },
          "metadata": {},
          "execution_count": 13
        }
      ]
    },
    {
      "cell_type": "code",
      "source": [
        "df_copy.drop([\"patient_id\" , \"pam50_+_claudin-low_subtype\" , \"cohort\" ,\"er_status_measured_by_ihc\" , \"her2_status_measured_by_snp6\" ,\n",
        "              \"her2_status\" , \"tumor_other_histologic_subtype\" , \"integrative_cluster\" , \"mutation_count\" , \"nottingham_prognostic_index\" ,\n",
        "              \"oncotree_code\" , \"3-gene_classifier_subtype\"],axis = 1 , inplace = True)"
      ],
      "metadata": {
        "id": "KlZRpkf7OF3Q"
      },
      "execution_count": 14,
      "outputs": []
    },
    {
      "cell_type": "code",
      "source": [
        "df_copy.shape"
      ],
      "metadata": {
        "colab": {
          "base_uri": "https://localhost:8080/"
        },
        "id": "J63DqlqiQw6h",
        "outputId": "af8bfd9c-7684-4258-8133-4ccab3ef438f"
      },
      "execution_count": 15,
      "outputs": [
        {
          "output_type": "execute_result",
          "data": {
            "text/plain": [
              "(1016, 19)"
            ]
          },
          "metadata": {},
          "execution_count": 15
        }
      ]
    },
    {
      "cell_type": "code",
      "source": [
        "df_copy.dtypes"
      ],
      "metadata": {
        "colab": {
          "base_uri": "https://localhost:8080/"
        },
        "id": "n5OOmbG7Rabg",
        "outputId": "1016ba2c-c135-45ae-ff16-750df7e08725"
      },
      "execution_count": 16,
      "outputs": [
        {
          "output_type": "execute_result",
          "data": {
            "text/plain": [
              "age_at_diagnosis                 float64\n",
              "type_of_breast_surgery            object\n",
              "cancer_type                       object\n",
              "cancer_type_detailed              object\n",
              "cellularity                       object\n",
              "chemotherapy                       int64\n",
              "er_status                         object\n",
              "neoplasm_histologic_grade        float64\n",
              "hormone_therapy                    int64\n",
              "inferred_menopausal_state         object\n",
              "primary_tumor_laterality          object\n",
              "lymph_nodes_examined_positive    float64\n",
              "overall_survival_months          float64\n",
              "overall_survival                   int64\n",
              "pr_status                         object\n",
              "radio_therapy                      int64\n",
              "tumor_size                       float64\n",
              "tumor_stage                      float64\n",
              "death_from_cancer                 object\n",
              "dtype: object"
            ]
          },
          "metadata": {},
          "execution_count": 16
        }
      ]
    },
    {
      "cell_type": "code",
      "source": [
        "df_copy.death_from_cancer.unique()"
      ],
      "metadata": {
        "colab": {
          "base_uri": "https://localhost:8080/"
        },
        "id": "q_ATMpTJR1Qt",
        "outputId": "e86f536d-e590-489c-aa21-749440560a60"
      },
      "execution_count": 17,
      "outputs": [
        {
          "output_type": "execute_result",
          "data": {
            "text/plain": [
              "array(['Living', 'Died of Disease', 'Died of Other Causes'], dtype=object)"
            ]
          },
          "metadata": {},
          "execution_count": 17
        }
      ]
    },
    {
      "cell_type": "code",
      "source": [
        "from sklearn.preprocessing import LabelEncoder\n",
        "\n",
        "encoder = LabelEncoder()\n",
        "\n",
        "df_copy.type_of_breast_surgery = encoder.fit_transform(df_copy.type_of_breast_surgery)\n",
        "df_copy.cancer_type = encoder.fit_transform(df_copy.cancer_type)\n",
        "df_copy.cancer_type_detailed = encoder.fit_transform(df_copy.cancer_type_detailed)\n",
        "df_copy.cellularity = encoder.fit_transform(df_copy.cellularity)"
      ],
      "metadata": {
        "id": "a1EgXSzDSUNY"
      },
      "execution_count": 22,
      "outputs": []
    },
    {
      "cell_type": "code",
      "source": [
        "df_copy.dtypes"
      ],
      "metadata": {
        "colab": {
          "base_uri": "https://localhost:8080/"
        },
        "id": "2GFPorZUVG6B",
        "outputId": "70915534-c02a-4273-bd0f-3fc80a931152"
      },
      "execution_count": 23,
      "outputs": [
        {
          "output_type": "execute_result",
          "data": {
            "text/plain": [
              "age_at_diagnosis                 float64\n",
              "type_of_breast_surgery             int64\n",
              "cancer_type                        int64\n",
              "cancer_type_detailed               int64\n",
              "cellularity                        int64\n",
              "chemotherapy                       int64\n",
              "er_status                         object\n",
              "neoplasm_histologic_grade        float64\n",
              "hormone_therapy                    int64\n",
              "inferred_menopausal_state         object\n",
              "primary_tumor_laterality          object\n",
              "lymph_nodes_examined_positive    float64\n",
              "overall_survival_months          float64\n",
              "overall_survival                   int64\n",
              "pr_status                         object\n",
              "radio_therapy                      int64\n",
              "tumor_size                       float64\n",
              "tumor_stage                      float64\n",
              "death_from_cancer                 object\n",
              "dtype: object"
            ]
          },
          "metadata": {},
          "execution_count": 23
        }
      ]
    },
    {
      "cell_type": "code",
      "source": [
        "df_copy.er_status = encoder.fit_transform(df_copy.er_status)\n",
        "df_copy.inferred_menopausal_state = encoder.fit_transform(df_copy.inferred_menopausal_state)\n",
        "df_copy.primary_tumor_laterality = encoder.fit_transform(df_copy.primary_tumor_laterality)\n",
        "df_copy.pr_status  = encoder.fit_transform(df_copy.pr_status )\n",
        "df_copy.death_from_cancer   = encoder.fit_transform(df_copy.death_from_cancer)"
      ],
      "metadata": {
        "id": "G6D4AfCpWJWK"
      },
      "execution_count": 24,
      "outputs": []
    },
    {
      "cell_type": "code",
      "source": [
        "from sklearn.model_selection import train_test_split\n",
        "import tensorflow as tf\n",
        "from tensorflow import keras"
      ],
      "metadata": {
        "id": "N7_JRl_QYaj7"
      },
      "execution_count": 25,
      "outputs": []
    },
    {
      "cell_type": "code",
      "source": [
        "X_train , X_test , y_train , y_test =  train_test_split(df_copy.drop([\"death_from_cancer\"],axis=1) , df_copy.death_from_cancer  , test_size = 0.3 )"
      ],
      "metadata": {
        "id": "DmBFpnhxYl8O"
      },
      "execution_count": 27,
      "outputs": []
    },
    {
      "cell_type": "code",
      "source": [
        "X_train.dtypes"
      ],
      "metadata": {
        "colab": {
          "base_uri": "https://localhost:8080/"
        },
        "id": "4I8rcEyPY7Gk",
        "outputId": "225ebb14-502d-42ce-bca1-7dc5bc49de82"
      },
      "execution_count": 29,
      "outputs": [
        {
          "output_type": "execute_result",
          "data": {
            "text/plain": [
              "age_at_diagnosis                 float64\n",
              "type_of_breast_surgery             int64\n",
              "cancer_type                        int64\n",
              "cancer_type_detailed               int64\n",
              "cellularity                        int64\n",
              "chemotherapy                       int64\n",
              "er_status                          int64\n",
              "neoplasm_histologic_grade        float64\n",
              "hormone_therapy                    int64\n",
              "inferred_menopausal_state          int64\n",
              "primary_tumor_laterality           int64\n",
              "lymph_nodes_examined_positive    float64\n",
              "overall_survival_months          float64\n",
              "overall_survival                   int64\n",
              "pr_status                          int64\n",
              "radio_therapy                      int64\n",
              "tumor_size                       float64\n",
              "tumor_stage                      float64\n",
              "dtype: object"
            ]
          },
          "metadata": {},
          "execution_count": 29
        }
      ]
    },
    {
      "cell_type": "code",
      "source": [
        "from sklearn.preprocessing import MinMaxScaler\n",
        "\n",
        "scaler = MinMaxScaler()\n",
        "\n",
        "X_train[\"age_at_diagnosis \"] = scaler.fit_transform(X_train[\"age_at_diagnosis\"].values.reshape(-1,1))"
      ],
      "metadata": {
        "id": "Nc_PRAUjY-zN"
      },
      "execution_count": 32,
      "outputs": []
    },
    {
      "cell_type": "code",
      "source": [
        "X_train.shape"
      ],
      "metadata": {
        "colab": {
          "base_uri": "https://localhost:8080/"
        },
        "id": "7CK-4DC3Z4AT",
        "outputId": "3de0e476-9c5c-4fba-c5e0-b6020fbd47bd"
      },
      "execution_count": 33,
      "outputs": [
        {
          "output_type": "execute_result",
          "data": {
            "text/plain": [
              "(711, 19)"
            ]
          },
          "metadata": {},
          "execution_count": 33
        }
      ]
    },
    {
      "cell_type": "code",
      "source": [
        "model = keras.Sequential([\n",
        "                          keras.layers.Dense(500 , input_dim=19 , activation=\"relu\"),\n",
        "                          keras.layers.Dropout(0.5),\n",
        "                          keras.layers.Dense(370 ,activation=\"relu\" ),\n",
        "                          keras.layers.Dropout(0.5),\n",
        "                          keras.layers.Dense(130, activation = \"relu\"),\n",
        "                          keras.layers.Dropout(0.5),\n",
        "                          keras.layers.Dense(1,activation= \"sigmoid\")\n",
        "])\n",
        "\n",
        "model.compile(\n",
        "    loss = \"binary_crossentropy\",\n",
        "    optimizer = \"adam\",\n",
        "    metrics = [\"accuracy\"]\n",
        ")\n"
      ],
      "metadata": {
        "id": "SeulVbhYZc3X"
      },
      "execution_count": 40,
      "outputs": []
    },
    {
      "cell_type": "code",
      "source": [
        "model.fit(X_train , y_train , epochs = 20 , batch_size=5)"
      ],
      "metadata": {
        "colab": {
          "base_uri": "https://localhost:8080/"
        },
        "id": "BDrnIg5lbAlf",
        "outputId": "8c7a955e-bfe6-4a4b-e25d-6be1ade4faad"
      },
      "execution_count": 41,
      "outputs": [
        {
          "output_type": "stream",
          "name": "stdout",
          "text": [
            "Epoch 1/20\n",
            "143/143 [==============================] - 1s 5ms/step - loss: -5010.7026 - accuracy: 0.2025\n",
            "Epoch 2/20\n",
            "143/143 [==============================] - 1s 5ms/step - loss: -286913.7812 - accuracy: 0.2011\n",
            "Epoch 3/20\n",
            "143/143 [==============================] - 1s 6ms/step - loss: -2299862.5000 - accuracy: 0.2011\n",
            "Epoch 4/20\n",
            "143/143 [==============================] - 1s 6ms/step - loss: -9806096.0000 - accuracy: 0.2011\n",
            "Epoch 5/20\n",
            "143/143 [==============================] - 1s 7ms/step - loss: -27250654.0000 - accuracy: 0.2011\n",
            "Epoch 6/20\n",
            "143/143 [==============================] - 1s 5ms/step - loss: -66283112.0000 - accuracy: 0.2011\n",
            "Epoch 7/20\n",
            "143/143 [==============================] - 1s 5ms/step - loss: -124745528.0000 - accuracy: 0.1997\n",
            "Epoch 8/20\n",
            "143/143 [==============================] - 1s 4ms/step - loss: -217680816.0000 - accuracy: 0.2011\n",
            "Epoch 9/20\n",
            "143/143 [==============================] - 1s 6ms/step - loss: -349035072.0000 - accuracy: 0.2011\n",
            "Epoch 10/20\n",
            "143/143 [==============================] - 1s 7ms/step - loss: -554002496.0000 - accuracy: 0.2025\n",
            "Epoch 11/20\n",
            "143/143 [==============================] - 1s 7ms/step - loss: -768311744.0000 - accuracy: 0.2011\n",
            "Epoch 12/20\n",
            "143/143 [==============================] - 1s 9ms/step - loss: -1101547904.0000 - accuracy: 0.2011\n",
            "Epoch 13/20\n",
            "143/143 [==============================] - 2s 12ms/step - loss: -1459977600.0000 - accuracy: 0.2011\n",
            "Epoch 14/20\n",
            "143/143 [==============================] - 1s 7ms/step - loss: -1934383232.0000 - accuracy: 0.2025\n",
            "Epoch 15/20\n",
            "143/143 [==============================] - 1s 5ms/step - loss: -2530299904.0000 - accuracy: 0.2011\n",
            "Epoch 16/20\n",
            "143/143 [==============================] - 1s 6ms/step - loss: -3153491968.0000 - accuracy: 0.2025\n",
            "Epoch 17/20\n",
            "143/143 [==============================] - 1s 6ms/step - loss: -4001128448.0000 - accuracy: 0.2039\n",
            "Epoch 18/20\n",
            "143/143 [==============================] - 1s 6ms/step - loss: -4713769984.0000 - accuracy: 0.2011\n",
            "Epoch 19/20\n",
            "143/143 [==============================] - 1s 5ms/step - loss: -5939437568.0000 - accuracy: 0.2011\n",
            "Epoch 20/20\n",
            "143/143 [==============================] - 1s 5ms/step - loss: -6774647296.0000 - accuracy: 0.2025\n"
          ]
        },
        {
          "output_type": "execute_result",
          "data": {
            "text/plain": [
              "<keras.callbacks.History at 0x7fbc5e350f50>"
            ]
          },
          "metadata": {},
          "execution_count": 41
        }
      ]
    },
    {
      "cell_type": "code",
      "source": [
        ""
      ],
      "metadata": {
        "id": "x26pBuBpbKJQ"
      },
      "execution_count": null,
      "outputs": []
    }
  ]
}